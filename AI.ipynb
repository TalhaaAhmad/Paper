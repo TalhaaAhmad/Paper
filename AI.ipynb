{
 "cells": [
  {
   "cell_type": "code",
   "execution_count": 1,
   "id": "81d4f31e",
   "metadata": {},
   "outputs": [],
   "source": [
    "import math"
   ]
  },
  {
   "cell_type": "markdown",
   "id": "30bde677",
   "metadata": {},
   "source": [
    "#  Calculate the surface area & volume of the sphere"
   ]
  },
  {
   "cell_type": "code",
   "execution_count": 2,
   "id": "ddd7aa4d",
   "metadata": {},
   "outputs": [
    {
     "name": "stdout",
     "output_type": "stream",
     "text": [
      "Enter the radius of the sphere: 34\n",
      "Surface Area: 14526.724430199203\n",
      "Volume: 164636.21020892428\n"
     ]
    }
   ],
   "source": [
    "import math\n",
    "\n",
    "radius = float(input(\"Enter the radius of the sphere: \"))\n",
    "surface_area = 4 * math.pi * (radius ** 2)\n",
    "print(\"Surface Area:\", surface_area)\n",
    "\n",
    "volume = (4/3) * math.pi * (radius ** 3)\n",
    "print(\"Volume:\", volume)\n"
   ]
  },
  {
   "cell_type": "markdown",
   "id": "58fed546",
   "metadata": {},
   "source": [
    "#  find the smallest multiple of the first n numbers and display the factors:"
   ]
  },
  {
   "cell_type": "code",
   "execution_count": 3,
   "id": "b6f472d6",
   "metadata": {},
   "outputs": [
    {
     "name": "stdout",
     "output_type": "stream",
     "text": [
      "Enter a number: 3\n",
      "Smallest multiple: 6\n",
      "Factors: [2, 3]\n"
     ]
    }
   ],
   "source": [
    "def find_smallest_multiple(n):\n",
    "    factors = []\n",
    "    result = 1\n",
    "\n",
    "    for i in range(1, n + 1):\n",
    "        if result % i != 0:\n",
    "            for factor in factors:\n",
    "                if i % factor == 0:\n",
    "                    i //= factor\n",
    "            result *= i\n",
    "            factors.append(i)\n",
    "\n",
    "    return result, factors\n",
    "\n",
    "number = int(input(\"Enter a number: \"))\n",
    "multiple, factors = find_smallest_multiple(number)\n",
    "\n",
    "print(\"Smallest multiple:\", multiple)\n",
    "print(\"Factors:\", factors)\n"
   ]
  },
  {
   "cell_type": "markdown",
   "id": "aeb7de87",
   "metadata": {},
   "source": [
    "#  calculate the difference between the squared sum of the first n natural numbers and the sum of squared first n natural numbers"
   ]
  },
  {
   "cell_type": "code",
   "execution_count": 4,
   "id": "9c1bb840",
   "metadata": {},
   "outputs": [
    {
     "name": "stdout",
     "output_type": "stream",
     "text": [
      "Difference: 4\n"
     ]
    }
   ],
   "source": [
    "def calculate_difference(n):\n",
    "    sum_squared = sum(range(1, n+1)) ** 2\n",
    "    squared_sum = sum([i**2 for i in range(1, n+1)])\n",
    "    return sum_squared - squared_sum\n",
    "\n",
    "# Default value of n is 2\n",
    "result = calculate_difference(2)\n",
    "print(\"Difference:\", result)\n"
   ]
  },
  {
   "cell_type": "markdown",
   "id": "2b198334",
   "metadata": {},
   "source": [
    "# to convert a float to a ratio:"
   ]
  },
  {
   "cell_type": "code",
   "execution_count": 5,
   "id": "804640eb",
   "metadata": {},
   "outputs": [
    {
     "name": "stdout",
     "output_type": "stream",
     "text": [
      "Enter a decimal number: 6\n",
      "Ratio: 6\n"
     ]
    }
   ],
   "source": [
    "from fractions import Fraction\n",
    "\n",
    "decimal_number = float(input(\"Enter a decimal number: \"))\n",
    "\n",
    "ratio = Fraction(decimal_number).limit_denominator()\n",
    "print(\"Ratio:\", ratio)\n"
   ]
  },
  {
   "cell_type": "markdown",
   "id": "01ea5fc8",
   "metadata": {},
   "source": [
    "#  to calculate the wind chill index:"
   ]
  },
  {
   "cell_type": "code",
   "execution_count": 6,
   "id": "3071c4c1",
   "metadata": {},
   "outputs": [
    {
     "name": "stdout",
     "output_type": "stream",
     "text": [
      "Enter the temperature in Fahrenheit: 45\n",
      "Enter the wind speed in miles per hour: 3\n",
      "Wind Chill Index: 44.02173794662361\n"
     ]
    }
   ],
   "source": [
    "def calculate_wind_chill(temperature, wind_speed):\n",
    "    wind_chill = 35.74 + (0.6215 * temperature) - (35.75 * (wind_speed ** 0.16)) + (0.4275 * temperature * (wind_speed ** 0.16))\n",
    "    return wind_chill\n",
    "\n",
    "temperature = float(input(\"Enter the temperature in Fahrenheit: \"))\n",
    "wind_speed = float(input(\"Enter the wind speed in miles per hour: \"))\n",
    "\n",
    "wind_chill_index = calculate_wind_chill(temperature, wind_speed)\n",
    "print(\"Wind Chill Index:\", wind_chill_index)\n"
   ]
  },
  {
   "cell_type": "markdown",
   "id": "33d46bc0",
   "metadata": {},
   "source": [
    "#  to get the length and the angle of a complex number:"
   ]
  },
  {
   "cell_type": "code",
   "execution_count": 7,
   "id": "d88dcc43",
   "metadata": {},
   "outputs": [
    {
     "name": "stdout",
     "output_type": "stream",
     "text": [
      "Enter a complex number (in the form of a + bj): 57\n",
      "Length: 57.0\n",
      "Angle (in radians): 0.0\n"
     ]
    }
   ],
   "source": [
    "import cmath\n",
    "\n",
    "complex_number = complex(input(\"Enter a complex number (in the form of a + bj): \"))\n",
    "\n",
    "length = abs(complex_number)\n",
    "angle = cmath.phase(complex_number)\n",
    "\n",
    "print(\"Length:\", length)\n",
    "print(\"Angle (in radians):\", angle)\n"
   ]
  },
  {
   "cell_type": "markdown",
   "id": "7e3eae44",
   "metadata": {},
   "source": [
    "# program to get the square root and exponential of a given decimal number:"
   ]
  },
  {
   "cell_type": "code",
   "execution_count": 8,
   "id": "dab135cc",
   "metadata": {},
   "outputs": [
    {
     "name": "stdout",
     "output_type": "stream",
     "text": [
      "Enter a decimal number: 6\n",
      "Square Root: 2.449489742783178\n",
      "Exponential: 403.4287934927351\n"
     ]
    }
   ],
   "source": [
    "import math\n",
    "\n",
    "decimal_number = float(input(\"Enter a decimal number: \"))\n",
    "\n",
    "square_root = math.sqrt(decimal_number)\n",
    "exponential = math.exp(decimal_number)\n",
    "\n",
    "print(\"Square Root:\", square_root)\n",
    "print(\"Exponential:\", exponential)\n"
   ]
  },
  {
   "cell_type": "markdown",
   "id": "5c2ce70c",
   "metadata": {},
   "source": [
    "# Python program to convert degrees to radians"
   ]
  },
  {
   "cell_type": "code",
   "execution_count": 10,
   "id": "9dc3b781",
   "metadata": {},
   "outputs": [
    {
     "name": "stdout",
     "output_type": "stream",
     "text": [
      "Enter the angle in degrees: 79\n",
      "Radians: 1.3788101090755203\n"
     ]
    }
   ],
   "source": [
    "import math\n",
    "\n",
    "degrees = float(input(\"Enter the angle in degrees: \"))\n",
    "\n",
    "radians = math.radians(degrees)\n",
    "print(\"Radians:\", radians)\n"
   ]
  },
  {
   "cell_type": "markdown",
   "id": "d13578f2",
   "metadata": {},
   "source": [
    "#  program to calculate the area of a trapezoid:"
   ]
  },
  {
   "cell_type": "code",
   "execution_count": 12,
   "id": "93665ed1",
   "metadata": {},
   "outputs": [
    {
     "name": "stdout",
     "output_type": "stream",
     "text": [
      "Enter the length of the first base: 6\n",
      "Enter the length of the second base: 7\n",
      "Enter the height: 56\n",
      "Area of the trapezoid: 364.0\n"
     ]
    }
   ],
   "source": [
    "base1 = float(input(\"Enter the length of the first base: \"))\n",
    "base2 = float(input(\"Enter the length of the second base: \"))\n",
    "height = float(input(\"Enter the height: \"))\n",
    "\n",
    "area = (base1 + base2) * height / 2\n",
    "print(\"Area of the trapezoid:\", area)\n",
    "\n"
   ]
  },
  {
   "cell_type": "markdown",
   "id": "694d7266",
   "metadata": {},
   "source": [
    "#  program to multiply two integers without using the * operator in Python:"
   ]
  },
  {
   "cell_type": "code",
   "execution_count": 13,
   "id": "249e99d1",
   "metadata": {},
   "outputs": [
    {
     "name": "stdout",
     "output_type": "stream",
     "text": [
      "Enter the first integer: 5\n",
      "Enter the second integer: 45\n",
      "Product: 225\n"
     ]
    }
   ],
   "source": [
    "def multiply(x, y):\n",
    "    result = 0\n",
    "    for _ in range(abs(y)):\n",
    "        result += abs(x)\n",
    "    if (x < 0 and y > 0) or (x > 0 and y < 0):\n",
    "        result = -result\n",
    "    return result\n",
    "\n",
    "num1 = int(input(\"Enter the first integer: \"))\n",
    "num2 = int(input(\"Enter the second integer: \"))\n",
    "\n",
    "product = multiply(num1, num2)\n",
    "print(\"Product:\", product)\n"
   ]
  },
  {
   "cell_type": "markdown",
   "id": "026f0f88",
   "metadata": {},
   "source": [
    "# To calculate the sine, cosine, and tangent of an angle in radians using the math library, you can use the sin(), cos(), and tan() functions, respectively."
   ]
  },
  {
   "cell_type": "code",
   "execution_count": 15,
   "id": "cc9b4b91",
   "metadata": {},
   "outputs": [
    {
     "name": "stdout",
     "output_type": "stream",
     "text": [
      "Enter the angle in radians: 89\n",
      "Sine: 0.8600694058124532\n",
      "Cosine: 0.5101770449416689\n",
      "Tangent: 1.6858253705060158\n"
     ]
    }
   ],
   "source": [
    "import math\n",
    "\n",
    "angle = float(input(\"Enter the angle in radians: \"))\n",
    "\n",
    "# Calculate sine\n",
    "sine = math.sin(angle)\n",
    "print(\"Sine:\", sine)\n",
    "\n",
    "# Calculate cosine\n",
    "cosine = math.cos(angle)\n",
    "print(\"Cosine:\", cosine)\n",
    "\n",
    "# Calculate tangent\n",
    "tangent = math.tan(angle)\n",
    "print(\"Tangent:\", tangent)\n"
   ]
  },
  {
   "cell_type": "markdown",
   "id": "78a5192b",
   "metadata": {},
   "source": [
    "# To calculate the logarithm with base 8 of a number using the math library, you can use the log() function and specify the base as the second argument."
   ]
  },
  {
   "cell_type": "code",
   "execution_count": 16,
   "id": "a2af58fd",
   "metadata": {},
   "outputs": [
    {
     "name": "stdout",
     "output_type": "stream",
     "text": [
      "Enter the number: 5\n",
      "Logarithm (base 8): 0.7739760316291208\n"
     ]
    }
   ],
   "source": [
    "import math\n",
    "\n",
    "number = float(input(\"Enter the number: \"))\n",
    "\n",
    "# Calculate logarithm base 8\n",
    "log_base_8 = math.log(number, 8)\n",
    "print(\"Logarithm (base 8):\", log_base_8)\n"
   ]
  },
  {
   "cell_type": "markdown",
   "id": "bb68410d",
   "metadata": {},
   "source": [
    "# Python program to calculate the difference between the squared sum of the first n natural numbers and the sum of squared first n natural number"
   ]
  },
  {
   "cell_type": "code",
   "execution_count": 17,
   "id": "d112c513",
   "metadata": {},
   "outputs": [
    {
     "name": "stdout",
     "output_type": "stream",
     "text": [
      "Difference: 4\n"
     ]
    }
   ],
   "source": [
    "def calculate_difference(n):\n",
    "    sum_squared = sum(range(1, n+1)) ** 2\n",
    "    squared_sum = sum([i**2 for i in range(1, n+1)])\n",
    "    return sum_squared - squared_sum\n",
    "\n",
    "# Default value of n is 2\n",
    "result = calculate_difference(2)\n",
    "print(\"Difference:\", result)\n"
   ]
  },
  {
   "cell_type": "markdown",
   "id": "316dacf9",
   "metadata": {},
   "source": [
    "# To round a decimal number to the nearest whole number using the math library, you can use the round() function."
   ]
  },
  {
   "cell_type": "code",
   "execution_count": 19,
   "id": "1bf0fa2e",
   "metadata": {},
   "outputs": [
    {
     "name": "stdout",
     "output_type": "stream",
     "text": [
      "Enter the decimal number: 4.7\n",
      "Rounded number: 5\n"
     ]
    }
   ],
   "source": [
    "import math\n",
    "\n",
    "decimal_number = float(input(\"Enter the decimal number: \"))\n",
    "\n",
    "rounded_number = round(decimal_number)\n",
    "print(\"Rounded number:\", rounded_number)\n"
   ]
  },
  {
   "cell_type": "markdown",
   "id": "e56ad688",
   "metadata": {},
   "source": [
    "# alculating the factorial of a number"
   ]
  },
  {
   "cell_type": "code",
   "execution_count": 21,
   "id": "9e094b48",
   "metadata": {},
   "outputs": [
    {
     "name": "stdout",
     "output_type": "stream",
     "text": [
      "Enter a number: 5\n",
      "Factorial: 120\n"
     ]
    }
   ],
   "source": [
    "import math\n",
    "\n",
    "def factorial(n):\n",
    "    if n == 0:\n",
    "        return 1\n",
    "    else:\n",
    "        return n * factorial(n - 1)\n",
    "\n",
    "number = int(input(\"Enter a number: \"))\n",
    "\n",
    "# Calculate the factorial\n",
    "factorial_value = factorial(number)\n",
    "print(\"Factorial:\", factorial_value)\n"
   ]
  },
  {
   "cell_type": "markdown",
   "id": "40c929bb",
   "metadata": {},
   "source": [
    "#  provides a constant pi that represents the value of π (pi)"
   ]
  },
  {
   "cell_type": "code",
   "execution_count": 22,
   "id": "f832e279",
   "metadata": {},
   "outputs": [
    {
     "name": "stdout",
     "output_type": "stream",
     "text": [
      "Pi: 3.141592653589793\n"
     ]
    }
   ],
   "source": [
    "import math\n",
    "\n",
    "# Access the value of pi\n",
    "pi_value = math.pi\n",
    "print(\"Pi:\", pi_value)\n"
   ]
  },
  {
   "cell_type": "markdown",
   "id": "480b27a4",
   "metadata": {},
   "source": [
    "# calculate the natural logarithm (base e), you can simply use log()"
   ]
  },
  {
   "cell_type": "code",
   "execution_count": 23,
   "id": "d9ce861b",
   "metadata": {},
   "outputs": [
    {
     "name": "stdout",
     "output_type": "stream",
     "text": [
      "Enter a number: 56\n",
      "Natural Logarithm: 4.02535169073515\n"
     ]
    }
   ],
   "source": [
    "import math\n",
    "\n",
    "number = float(input(\"Enter a number: \"))\n",
    "\n",
    "# Calculate natural logarithm\n",
    "natural_log = math.log(number)\n",
    "print(\"Natural Logarithm:\", natural_log)\n"
   ]
  },
  {
   "cell_type": "markdown",
   "id": "df694e97",
   "metadata": {},
   "source": [
    "# Logarithm with a specific base (e.g., base 10):"
   ]
  },
  {
   "cell_type": "code",
   "execution_count": 24,
   "id": "04a29fbb",
   "metadata": {},
   "outputs": [
    {
     "name": "stdout",
     "output_type": "stream",
     "text": [
      "Enter a number: 56\n",
      "Logarithm (base 10): 1.7481880270062005\n"
     ]
    }
   ],
   "source": [
    "import math\n",
    "\n",
    "number = float(input(\"Enter a number: \"))\n",
    "\n",
    "# Calculate logarithm base 10\n",
    "log_base_10 = math.log(number, 10)\n",
    "print(\"Logarithm (base 10):\", log_base_10)\n"
   ]
  },
  {
   "cell_type": "markdown",
   "id": "873575cd",
   "metadata": {},
   "source": [
    "# depth first algo\n"
   ]
  },
  {
   "cell_type": "code",
   "execution_count": 26,
   "id": "04d9054b",
   "metadata": {},
   "outputs": [
    {
     "name": "stdout",
     "output_type": "stream",
     "text": [
      "A C F E B D "
     ]
    }
   ],
   "source": [
    "def dfs(graph, start_node):\n",
    "    visited = set()\n",
    "    \n",
    "    stack = [start_node]\n",
    "    \n",
    "    while stack:\n",
    "        node = stack.pop()\n",
    "        \n",
    "        if node not in visited:\n",
    "            print(node, end = ' ')\n",
    "    \n",
    "            visited.add(node)\n",
    "            stack.extend(graph[node]-visited)\n",
    "            \n",
    "graph = {\n",
    "    'A' : {'B', 'C'},\n",
    "    'B' : {'A','D','E'},\n",
    "    'C' : {'A', 'F'},\n",
    "    'D' : {'B'},\n",
    "    'E' : {'B', 'F'},\n",
    "    'F' : {'C', 'E'}\n",
    "}\n",
    "dfs(graph,'A')"
   ]
  },
  {
   "cell_type": "markdown",
   "id": "21a395a0",
   "metadata": {},
   "source": [
    "# Breath first algo\n"
   ]
  },
  {
   "cell_type": "code",
   "execution_count": 27,
   "id": "f41f8e24",
   "metadata": {},
   "outputs": [
    {
     "name": "stdout",
     "output_type": "stream",
     "text": [
      "A B C D E F "
     ]
    }
   ],
   "source": [
    "from collections import deque\n",
    "\n",
    "def bfs(graph, start_node):\n",
    "    visited = set()\n",
    "    queue = deque([start_node])\n",
    "\n",
    "    while queue:\n",
    "        node = queue.popleft()\n",
    "        \n",
    "        # Check if the node has already been visited\n",
    "        if node not in visited:\n",
    "            print(node, end=' ')\n",
    "            visited.add(node)\n",
    "            \n",
    "            # Add the neighboring nodes to the queue\n",
    "            for neighbor in graph[node]:\n",
    "                queue.append(neighbor)\n",
    "\n",
    "# Example graph\n",
    "graph = {\n",
    "    'A': ['B', 'C'],\n",
    "    'B': ['A', 'D', 'E'],\n",
    "    'C': ['A', 'F'],\n",
    "    'D': ['B'],\n",
    "    'E': ['B', 'F'],\n",
    "    'F': ['C', 'E']\n",
    "}\n",
    "\n",
    "# Starting node for BFS\n",
    "start_node = 'A'\n",
    "\n",
    "# Perform BFS\n",
    "bfs(graph, start_node)\n"
   ]
  },
  {
   "cell_type": "code",
   "execution_count": null,
   "id": "a99cb71c",
   "metadata": {},
   "outputs": [],
   "source": []
  }
 ],
 "metadata": {
  "kernelspec": {
   "display_name": "Python 3 (ipykernel)",
   "language": "python",
   "name": "python3"
  },
  "language_info": {
   "codemirror_mode": {
    "name": "ipython",
    "version": 3
   },
   "file_extension": ".py",
   "mimetype": "text/x-python",
   "name": "python",
   "nbconvert_exporter": "python",
   "pygments_lexer": "ipython3",
   "version": "3.9.13"
  }
 },
 "nbformat": 4,
 "nbformat_minor": 5
}
